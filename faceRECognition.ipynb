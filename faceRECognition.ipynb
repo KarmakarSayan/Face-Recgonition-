{
 "cells": [
  {
   "cell_type": "code",
   "execution_count": 6,
   "id": "ceab4d15-a375-455f-ac5c-8f6a2fd69bc9",
   "metadata": {},
   "outputs": [],
   "source": [
    "import cv2"
   ]
  },
  {
   "cell_type": "code",
   "execution_count": null,
   "id": "987ee978-ec8c-4b57-acc2-557c19789809",
   "metadata": {},
   "outputs": [],
   "source": [
    "face_cap = cv2.CascadeClassifier(cv2.data.haarcascades + \"haarcascade_frontalface_default.xml\")\n",
    "if face_cap.empty():\n",
    "    print(\"Error: Haarcascade file not found!\")\n",
    "    exit()\n",
    "video_cap = cv2.VideoCapture(0)\n",
    "if not video_cap.isOpened():\n",
    "    print(\"Error: Could not access the webcam.\")\n",
    "    exit()\n",
    "\n",
    "while True:\n",
    "    ret, video_data = video_cap.read()\n",
    "if not ret:\n",
    "        print(\"Error: Failed to capture video frame.\")\n",
    "        continue  \n",
    "\n",
    "    col = cv2.cvtColor(video_data, cv2.COLOR_BGR2GRAY)  # Convert to grayscale\n",
    "faces = face_cap.detectMultiScale(\n",
    "        col,\n",
    "        scaleFactor=1.1,\n",
    "        minNeighbors=5,\n",
    "        minSize=(30, 30),\n",
    "        flags=cv2.CASCADE_SCALE_IMAGE\n",
    "    )\n",
    "\n",
    "    \n",
    "    for (x, y, w, h) in faces:\n",
    "        cv2.rectangle(video_data, (x, y), (x + w, y + h), (0, 255, 0), 2)\n",
    "\n",
    "    cv2.imshow(\"Video_Live\", video_data)\n",
    "\n",
    "   \n",
    "    if cv2.waitKey(10) & 0xFF == ord(\"a\"):\n",
    "        break\n",
    "\n",
    "\n",
    "video_cap.release()\n",
    "cv2.destroyAllWindows()"
   ]
  },
  {
   "cell_type": "code",
   "execution_count": null,
   "id": "be8735d2-047c-450a-8475-40559ef0f4db",
   "metadata": {},
   "outputs": [],
   "source": []
  }
 ],
 "metadata": {
  "kernelspec": {
   "display_name": "Python 3 (ipykernel)",
   "language": "python",
   "name": "python3"
  },
  "language_info": {
   "codemirror_mode": {
    "name": "ipython",
    "version": 3
   },
   "file_extension": ".py",
   "mimetype": "text/x-python",
   "name": "python",
   "nbconvert_exporter": "python",
   "pygments_lexer": "ipython3",
   "version": "3.11.4"
  }
 },
 "nbformat": 4,
 "nbformat_minor": 5
}
